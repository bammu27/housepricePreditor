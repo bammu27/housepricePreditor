{
 "cells": [
  {
   "cell_type": "code",
   "execution_count": 109,
   "id": "e5c58c0c-fa58-449e-966d-a7de921c8835",
   "metadata": {},
   "outputs": [],
   "source": [
    "import numpy as np\n",
    "import pandas as pd\n",
    "from matplotlib import pyplot as plt\n"
   ]
  },
  {
   "cell_type": "code",
   "execution_count": 110,
   "id": "68315f10-a096-4a1b-9d9f-b19dffd177b0",
   "metadata": {},
   "outputs": [],
   "source": [
    "df = pd.read_csv('House_Rent_Dataset.csv')"
   ]
  },
  {
   "cell_type": "code",
   "execution_count": 111,
   "id": "00372947-3406-4ec0-9a55-29d222822ce1",
   "metadata": {},
   "outputs": [
    {
     "data": {
      "text/html": [
       "<div>\n",
       "<style scoped>\n",
       "    .dataframe tbody tr th:only-of-type {\n",
       "        vertical-align: middle;\n",
       "    }\n",
       "\n",
       "    .dataframe tbody tr th {\n",
       "        vertical-align: top;\n",
       "    }\n",
       "\n",
       "    .dataframe thead th {\n",
       "        text-align: right;\n",
       "    }\n",
       "</style>\n",
       "<table border=\"1\" class=\"dataframe\">\n",
       "  <thead>\n",
       "    <tr style=\"text-align: right;\">\n",
       "      <th></th>\n",
       "      <th>Posted On</th>\n",
       "      <th>BHK</th>\n",
       "      <th>Rent</th>\n",
       "      <th>Size</th>\n",
       "      <th>Floor</th>\n",
       "      <th>Area Type</th>\n",
       "      <th>Area Locality</th>\n",
       "      <th>City</th>\n",
       "      <th>Furnishing Status</th>\n",
       "      <th>Tenant Preferred</th>\n",
       "      <th>Bathroom</th>\n",
       "      <th>Point of Contact</th>\n",
       "    </tr>\n",
       "  </thead>\n",
       "  <tbody>\n",
       "    <tr>\n",
       "      <th>0</th>\n",
       "      <td>2022-05-18</td>\n",
       "      <td>2</td>\n",
       "      <td>10000</td>\n",
       "      <td>1100</td>\n",
       "      <td>Ground out of 2</td>\n",
       "      <td>Super Area</td>\n",
       "      <td>Bandel</td>\n",
       "      <td>Kolkata</td>\n",
       "      <td>Unfurnished</td>\n",
       "      <td>Bachelors/Family</td>\n",
       "      <td>2</td>\n",
       "      <td>Contact Owner</td>\n",
       "    </tr>\n",
       "    <tr>\n",
       "      <th>1</th>\n",
       "      <td>2022-05-13</td>\n",
       "      <td>2</td>\n",
       "      <td>20000</td>\n",
       "      <td>800</td>\n",
       "      <td>1 out of 3</td>\n",
       "      <td>Super Area</td>\n",
       "      <td>Phool Bagan, Kankurgachi</td>\n",
       "      <td>Kolkata</td>\n",
       "      <td>Semi-Furnished</td>\n",
       "      <td>Bachelors/Family</td>\n",
       "      <td>1</td>\n",
       "      <td>Contact Owner</td>\n",
       "    </tr>\n",
       "    <tr>\n",
       "      <th>2</th>\n",
       "      <td>2022-05-16</td>\n",
       "      <td>2</td>\n",
       "      <td>17000</td>\n",
       "      <td>1000</td>\n",
       "      <td>1 out of 3</td>\n",
       "      <td>Super Area</td>\n",
       "      <td>Salt Lake City Sector 2</td>\n",
       "      <td>Kolkata</td>\n",
       "      <td>Semi-Furnished</td>\n",
       "      <td>Bachelors/Family</td>\n",
       "      <td>1</td>\n",
       "      <td>Contact Owner</td>\n",
       "    </tr>\n",
       "    <tr>\n",
       "      <th>3</th>\n",
       "      <td>2022-07-04</td>\n",
       "      <td>2</td>\n",
       "      <td>10000</td>\n",
       "      <td>800</td>\n",
       "      <td>1 out of 2</td>\n",
       "      <td>Super Area</td>\n",
       "      <td>Dumdum Park</td>\n",
       "      <td>Kolkata</td>\n",
       "      <td>Unfurnished</td>\n",
       "      <td>Bachelors/Family</td>\n",
       "      <td>1</td>\n",
       "      <td>Contact Owner</td>\n",
       "    </tr>\n",
       "    <tr>\n",
       "      <th>4</th>\n",
       "      <td>2022-05-09</td>\n",
       "      <td>2</td>\n",
       "      <td>7500</td>\n",
       "      <td>850</td>\n",
       "      <td>1 out of 2</td>\n",
       "      <td>Carpet Area</td>\n",
       "      <td>South Dum Dum</td>\n",
       "      <td>Kolkata</td>\n",
       "      <td>Unfurnished</td>\n",
       "      <td>Bachelors</td>\n",
       "      <td>1</td>\n",
       "      <td>Contact Owner</td>\n",
       "    </tr>\n",
       "  </tbody>\n",
       "</table>\n",
       "</div>"
      ],
      "text/plain": [
       "    Posted On  BHK   Rent  Size            Floor    Area Type  \\\n",
       "0  2022-05-18    2  10000  1100  Ground out of 2   Super Area   \n",
       "1  2022-05-13    2  20000   800       1 out of 3   Super Area   \n",
       "2  2022-05-16    2  17000  1000       1 out of 3   Super Area   \n",
       "3  2022-07-04    2  10000   800       1 out of 2   Super Area   \n",
       "4  2022-05-09    2   7500   850       1 out of 2  Carpet Area   \n",
       "\n",
       "              Area Locality     City Furnishing Status  Tenant Preferred  \\\n",
       "0                    Bandel  Kolkata       Unfurnished  Bachelors/Family   \n",
       "1  Phool Bagan, Kankurgachi  Kolkata    Semi-Furnished  Bachelors/Family   \n",
       "2   Salt Lake City Sector 2  Kolkata    Semi-Furnished  Bachelors/Family   \n",
       "3               Dumdum Park  Kolkata       Unfurnished  Bachelors/Family   \n",
       "4             South Dum Dum  Kolkata       Unfurnished         Bachelors   \n",
       "\n",
       "   Bathroom Point of Contact  \n",
       "0         2    Contact Owner  \n",
       "1         1    Contact Owner  \n",
       "2         1    Contact Owner  \n",
       "3         1    Contact Owner  \n",
       "4         1    Contact Owner  "
      ]
     },
     "execution_count": 111,
     "metadata": {},
     "output_type": "execute_result"
    }
   ],
   "source": [
    "df.head()"
   ]
  },
  {
   "cell_type": "markdown",
   "id": "e5242de5-f1a2-4275-9612-6c531aea8a31",
   "metadata": {},
   "source": [
    "we are going perdict rent based on size"
   ]
  },
  {
   "cell_type": "code",
   "execution_count": 112,
   "id": "ca621219-8441-45ad-be90-afaea742ac03",
   "metadata": {},
   "outputs": [],
   "source": [
    "df = df.dropna() #we droping null  valued row"
   ]
  },
  {
   "cell_type": "code",
   "execution_count": 134,
   "id": "fd46857e-78ff-47af-848e-2585c27fe0d6",
   "metadata": {},
   "outputs": [],
   "source": [
    "x = np.array(df['Size'])\n",
    "y = np.array(df['Rent'])\n",
    "\n",
    "x = (x-np.min(x))/(np.max(x)-np.min(x))\n",
    "y = (y-np.min(y))/(np.max(y)-np.min(y))\n"
   ]
  },
  {
   "cell_type": "code",
   "execution_count": 117,
   "id": "4d015f97-dd03-4cd3-abda-f143b95c4ab3",
   "metadata": {},
   "outputs": [
    {
     "data": {
      "text/plain": [
       "<matplotlib.collections.PathCollection at 0x29db8f0d350>"
      ]
     },
     "execution_count": 117,
     "metadata": {},
     "output_type": "execute_result"
    },
    {
     "data": {
      "image/png": "[encoded data removed]",
      "text/plain": [
       "<Figure size 640x480 with 1 Axes>"
      ]
     },
     "metadata": {},
     "output_type": "display_data"
    }
   ],
   "source": [
    "plt.title('Housing price Predication')\n",
    "plt.xlabel('size of the house in square foot')\n",
    "plt.ylabel('Rent amount in Rupees in 10000')\n",
    "plt.scatter(x_train,y_train,marker = '*',c='r')\n"
   ]
  },
  {
   "cell_type": "markdown",
   "id": "84659da1-a4b4-4382-92b5-c302d93881b2",
   "metadata": {},
   "source": [
    "model function"
   ]
  },
  {
   "cell_type": "code",
   "execution_count": 118,
   "id": "e0469f21-021f-4158-b812-d81ae515fe08",
   "metadata": {},
   "outputs": [
    {
     "name": "stdout",
     "output_type": "stream",
     "text": [
      "w:0.12662066381815684\n",
      "b:0.0017944134132060752\n"
     ]
    }
   ],
   "source": [
    "#setting w and b value\n",
    "w = 0.12662066381815684\n",
    "b = 0.0017944134132060752\n",
    "print(f'w:{w}')\n",
    "print(f'b:{b}')\n"
   ]
  },
  {
   "cell_type": "code",
   "execution_count": 119,
   "id": "56eab7d8-b231-4813-9251-e90591a2233a",
   "metadata": {},
   "outputs": [
    {
     "name": "stdout",
     "output_type": "stream",
     "text": [
      "shape of features:4746\n",
      "shape of target:4746\n"
     ]
    }
   ],
   "source": [
    "\n",
    "#shape of the x_train and y_train\n",
    "\n",
    "shape_x = x_train.shape\n",
    "shape_y = y_train.shape\n",
    "\n",
    "print(f'shape of features:{shape_x[0]}')\n",
    "print(f'shape of target:{shape_y[0]}')"
   ]
  },
  {
   "cell_type": "code",
   "execution_count": 120,
   "id": "0bef8095-f3b3-4eae-a532-7a6e4ad01075",
   "metadata": {},
   "outputs": [],
   "source": [
    "def model(w,b,x_train,shape_x):\n",
    "    Y = np.zeros(shape_x[0])\n",
    "    for i in range(shape_x[0]):\n",
    "        Y[i]= w*x_train[i]+b\n",
    "\n",
    "    return Y\n",
    "    "
   ]
  },
  {
   "cell_type": "code",
   "execution_count": 121,
   "id": "4ba4acb2-79a4-4748-920c-8fbd9bf0c4da",
   "metadata": {},
   "outputs": [],
   "source": [
    "Y = model(w,b,x_train,shape_x) "
   ]
  },
  {
   "cell_type": "code",
   "execution_count": 122,
   "id": "61fd90ca-addb-40d2-8bab-2820d1610973",
   "metadata": {},
   "outputs": [
    {
     "data": {
      "image/png": "[encoded data removed]",
      "text/plain": [
       "<Figure size 640x480 with 1 Axes>"
      ]
     },
     "metadata": {},
     "output_type": "display_data"
    }
   ],
   "source": [
    "plt.title('Housing price Predication')\n",
    "plt.xlabel('size of the house in square foot')\n",
    "plt.ylabel('Rent amount in Rupees')\n",
    "plt.plot(x_train,Y,c='b',label = 'Predication')\n",
    "plt.scatter(x_train,y_train,marker = '*',c='r',label = 'Actual values')\n",
    "plt.legend()\n",
    "plt.show()"
   ]
  },
  {
   "cell_type": "code",
   "execution_count": 135,
   "id": "ff95023f-18e9-4780-8a40-c782e2388dbf",
   "metadata": {},
   "outputs": [],
   "source": [
    "def calculate_cost(Y, y_train, shape_x):\n",
    "    costs = np.zeros(shape_x[0])\n",
    "    costs  = (Y - y_train)** 2\n",
    "    cost = np.sum(costs)\n",
    "    cost = cost / (2 * shape_x[0])\n",
    "    return cost\n",
    "\n",
    "\n",
    "        \n",
    "        \n",
    "    "
   ]
  },
  {
   "cell_type": "markdown",
   "id": "e8488e19-c0f1-4fb2-ab50-5630a9f85a3d",
   "metadata": {},
   "source": [
    "Randomly get W and b"
   ]
  },
  {
   "cell_type": "code",
   "execution_count": 124,
   "id": "ca346256-c581-4dec-bdca-efd0f9b44ec0",
   "metadata": {},
   "outputs": [
    {
     "data": {
      "text/plain": [
       "0.00023356653602465743"
      ]
     },
     "execution_count": 124,
     "metadata": {},
     "output_type": "execute_result"
    }
   ],
   "source": [
    "cost = calculate_cost(Y,y_train,shape_x)\n",
    "cost"
   ]
  },
  {
   "cell_type": "code",
   "execution_count": 125,
   "id": "b00d60bf-3726-4e71-87b9-46a0ee74b1a3",
   "metadata": {},
   "outputs": [],
   "source": [
    "d = pd.DataFrame(columns=['w', 'b', 'cost'])\n",
    "error =[]\n",
    "W_list =[]\n",
    "b_list =[]\n",
    "for i in range(10000):\n",
    "    w = np.random.rand()*np.random.randint(1,25)\n",
    "    b = np.random.rand()*np.random.randint(1,25)\n",
    "    Ypred = model(w,b,x_train,shape_x)\n",
    "    cost1 = calculate_cost(Ypred,y_train,shape_x)\n",
    "    error.append(cost1)\n",
    "    W_list.append(w)\n",
    "    b_list.append(b)\n",
    "\n",
    "dict ={}\n",
    "dict['W'] = W_list\n",
    "dict['b'] = b_list\n",
    "dict['cost'] = error\n",
    "\n",
    "Dcost = pd.DataFrame(dict)\n",
    "    "
   ]
  },
  {
   "cell_type": "code",
   "execution_count": 126,
   "id": "2b1b4355-1b58-40be-8a8b-8fd9fc77be4f",
   "metadata": {},
   "outputs": [
    {
     "data": {
      "text/html": [
       "<div>\n",
       "<style scoped>\n",
       "    .dataframe tbody tr th:only-of-type {\n",
       "        vertical-align: middle;\n",
       "    }\n",
       "\n",
       "    .dataframe tbody tr th {\n",
       "        vertical-align: top;\n",
       "    }\n",
       "\n",
       "    .dataframe thead th {\n",
       "        text-align: right;\n",
       "    }\n",
       "</style>\n",
       "<table border=\"1\" class=\"dataframe\">\n",
       "  <thead>\n",
       "    <tr style=\"text-align: right;\">\n",
       "      <th></th>\n",
       "      <th>W</th>\n",
       "      <th>b</th>\n",
       "      <th>cost</th>\n",
       "    </tr>\n",
       "  </thead>\n",
       "  <tbody>\n",
       "    <tr>\n",
       "      <th>0</th>\n",
       "      <td>1.071290</td>\n",
       "      <td>7.860373</td>\n",
       "      <td>31.836044</td>\n",
       "    </tr>\n",
       "    <tr>\n",
       "      <th>1</th>\n",
       "      <td>0.245428</td>\n",
       "      <td>4.091585</td>\n",
       "      <td>8.451807</td>\n",
       "    </tr>\n",
       "    <tr>\n",
       "      <th>2</th>\n",
       "      <td>0.016268</td>\n",
       "      <td>0.580408</td>\n",
       "      <td>0.164230</td>\n",
       "    </tr>\n",
       "    <tr>\n",
       "      <th>3</th>\n",
       "      <td>12.892556</td>\n",
       "      <td>4.571283</td>\n",
       "      <td>19.159701</td>\n",
       "    </tr>\n",
       "    <tr>\n",
       "      <th>4</th>\n",
       "      <td>14.002726</td>\n",
       "      <td>2.571130</td>\n",
       "      <td>9.594229</td>\n",
       "    </tr>\n",
       "  </tbody>\n",
       "</table>\n",
       "</div>"
      ],
      "text/plain": [
       "           W         b       cost\n",
       "0   1.071290  7.860373  31.836044\n",
       "1   0.245428  4.091585   8.451807\n",
       "2   0.016268  0.580408   0.164230\n",
       "3  12.892556  4.571283  19.159701\n",
       "4  14.002726  2.571130   9.594229"
      ]
     },
     "execution_count": 126,
     "metadata": {},
     "output_type": "execute_result"
    }
   ],
   "source": [
    "Dcost.head()"
   ]
  },
  {
   "cell_type": "code",
   "execution_count": 127,
   "id": "166e6251-ab6d-444d-9c0c-17721af28073",
   "metadata": {},
   "outputs": [],
   "source": [
    " min_cost = np.min(Dcost['cost'])"
   ]
  },
  {
   "cell_type": "code",
   "execution_count": 128,
   "id": "fab07ecd-4983-4515-8a51-9f19d2cd912c",
   "metadata": {},
   "outputs": [],
   "source": [
    "i = list(Dcost['cost']).index(min_cost)\n",
    "\n",
    "w = Dcost['W'][i]\n",
    "b = Dcost['b'][i]\n",
    "        "
   ]
  },
  {
   "cell_type": "code",
   "execution_count": 129,
   "id": "494dac7d-8c7b-451e-aecd-5f8c6588e467",
   "metadata": {},
   "outputs": [],
   "source": [
    "#prameter w and b\n",
    "\n",
    "W = w*100\n",
    "B = b*100"
   ]
  },
  {
   "cell_type": "code",
   "execution_count": 130,
   "id": "e6b8628f-804c-4a52-813c-73b6e56f6033",
   "metadata": {},
   "outputs": [
    {
     "name": "stdout",
     "output_type": "stream",
     "text": [
      "W:2.5640769542478736 and B:0.8105469110592067\n"
     ]
    }
   ],
   "source": [
    "print(f'W:{W} and B:{B}')"
   ]
  },
  {
   "cell_type": "raw",
   "id": "249a3094-0134-4c11-a31b-596074ccded8",
   "metadata": {},
   "source": [
    "Using Gradient Descent"
   ]
  },
  {
   "cell_type": "code",
   "execution_count": 136,
   "id": "bec6d493-7650-444b-8fdb-496e5d5cbec3",
   "metadata": {},
   "outputs": [],
   "source": [
    "def pdw(ypred,y,shape_x,x):\n",
    "    p = np.zeros(shape_x[0])\n",
    "    p=(ypred - y)*x\n",
    "    pw = np.sum(p)/shape_x[0]\n",
    "    return pw\n",
    "\n",
    "def pdb(ypred,y,shape_x):\n",
    "    p = np.zeros(shape_x[0])\n",
    "    p =ypred- y\n",
    "    return np.sum(p)/shape_x[0]\n",
    "\n",
    "\n",
    "        \n",
    "        "
   ]
  },
  {
   "cell_type": "code",
   "execution_count": 137,
   "id": "752e7056-925d-40d6-86d8-3a2fdbe40b7d",
   "metadata": {},
   "outputs": [],
   "source": [
    "def Gradient(x,y,shape_x,a):\n",
    "    W = 0\n",
    "    B =0\n",
    "    for i in range(1000):\n",
    "        ypred = model(W,B,x,shape_x)\n",
    "        J = calculate_cost(ypred,y,shape_x)\n",
    "        pw = pdw(ypred,y,shape_x,x)\n",
    "        W = W - a*pw\n",
    "        ypred = model(W,B,x,shape_x)\n",
    "        J = calculate_cost(ypred,y,shape_x)\n",
    "        pb = pdb(ypred,y,shape_x)\n",
    "        B = B - a*pb\n",
    "\n",
    "    return W,B\n",
    "    \n",
    "\n",
    "\n",
    "\n",
    "\n",
    "\n",
    "\n",
    "\n",
    "\n",
    "\n"
   ]
  },
  {
   "cell_type": "code",
   "execution_count": 138,
   "id": "7c66c33c-d21a-4104-8d3d-6cd581c0e253",
   "metadata": {},
   "outputs": [],
   "source": [
    "W,B = Gradient(x,y,shape_x,0.01)"
   ]
  },
  {
   "cell_type": "code",
   "execution_count": 141,
   "id": "744dcf46-ff6b-4191-9697-d8c37dff7ace",
   "metadata": {},
   "outputs": [
    {
     "data": {
      "text/plain": [
       "0.809209915433984"
      ]
     },
     "execution_count": 141,
     "metadata": {},
     "output_type": "execute_result"
    }
   ],
   "source": [
    "W*100"
   ]
  },
  {
   "cell_type": "code",
   "execution_count": 142,
   "id": "2640264f-a057-4fbc-99d1-e35f5a04028f",
   "metadata": {},
   "outputs": [
    {
     "data": {
      "text/plain": [
       "0.8768721587415292"
      ]
     },
     "execution_count": 142,
     "metadata": {},
     "output_type": "execute_result"
    }
   ],
   "source": [
    "B*100"
   ]
  },
  {
   "cell_type": "code",
   "execution_count": 143,
   "id": "74c6fb4e-8b23-4ba5-a397-874caa63bcba",
   "metadata": {},
   "outputs": [
    {
     "name": "stdout",
     "output_type": "stream",
     "text": [
      "0.00024340378553341086\n"
     ]
    }
   ],
   "source": [
    "ypred = model(W,B,x,shape_x)\n",
    "\n"
   ]
  },
  {
   "cell_type": "code",
   "execution_count": null,
   "id": "25f93681-4902-4183-a3ad-77a20e7662cb",
   "metadata": {},
   "outputs": [],
   "source": []
  }
 ],
 "metadata": {
  "kernelspec": {
   "display_name": "Python 3 (ipykernel)",
   "language": "python",
   "name": "python3"
  },
  "language_info": {
   "codemirror_mode": {
    "name": "ipython",
    "version": 3
   },
   "file_extension": ".py",
   "mimetype": "text/x-python",
   "name": "python",
   "nbconvert_exporter": "python",
   "pygments_lexer": "ipython3",
   "version": "3.11.4"
  }
 },
 "nbformat": 4,
 "nbformat_minor": 5
}
